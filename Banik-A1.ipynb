{
 "cells": [
  {
   "cell_type": "markdown",
   "metadata": {},
   "source": [
    "# A1: Three-Layer Neural Network\n",
    "\n",
    "* Updated Sept. 7th 1:45 PM. A1grader.tar is updated.\n",
    "* Updated Sept. 6th 5:00 PM.  The code cell containing an example of calling the `gradient()` function is modified as shown."
   ]
  },
  {
   "cell_type": "markdown",
   "metadata": {
    "toc": true
   },
   "source": [
    "<h1>Table of Contents<span class=\"tocSkip\"></span></h1>\n",
    "<div class=\"toc\"><ul class=\"toc-item\"><li><span><a href=\"#Requirements\" data-toc-modified-id=\"Requirements-1\">Requirements</a></span></li><li><span><a href=\"#Example-Results\" data-toc-modified-id=\"Example-Results-2\">Example Results</a></span></li><li><span><a href=\"#Discussion\" data-toc-modified-id=\"Discussion-3\">Discussion</a></span></li></ul></div>"
   ]
  },
  {
   "cell_type": "markdown",
   "metadata": {},
   "source": [
    "## Requirements"
   ]
  },
  {
   "cell_type": "markdown",
   "metadata": {},
   "source": [
    "In this assignment, you will start with code from lecture notes 04 and add code to do the following.\n",
    "\n",
    "* Add another hidden layer, for a total of two hidden layers.  This layer will use a weight matrix named `U`.  Its outputs will be named `Zu` and the outputs of the second hidden layer will be changed to `Zv`.\n",
    "* Define function `forward` that returns the output of all of the layers in the neural network for all samples in `X`. `X` is assumed to be standardized and have the initial column of constant 1 values.\n",
    "\n",
    "      def forward(X, U, V, W):\n",
    "          .\n",
    "          .\n",
    "          .\n",
    "          Y = . . . # output of neural network for all rows in X\n",
    "          return Zu, Zv, Y\n",
    "      \n",
    "* Define function `gradient` that returns the gradients of the mean squared error with respect to each of the three weight matrices. `X` and `T` are assumed to be standardized and `X` has the initial column of 1's.\n",
    "\n",
    "      def gradient(X, T, Zu, Zv, Y, U, V, W):\n",
    "          .\n",
    "          .\n",
    "          .\n",
    "          return grad_wrt_U, grad_wrt_V, grad_wrt_W\n",
    "          \n",
    "* Define function `train` that returns the resulting values of `U`, `V`, and `W` and the standardization parameters.  Arguments are unstandardized `X` and `T`, the number of units in the two hidden layers, the number of epochs and the learning rate, which is the same value for all layers. This function standardizes `X` and `T`, initializes `U`, `V` and `W` to uniformly distributed random values between -1 and 1, and `U`, `V` and `W` for `n_epochs` times as shown in lecture notes 04.  This function must call `forward`, `gradient` and `addOnes`.\n",
    "\n",
    "      def train(X, T, n_units_U, n_units_V, n_epochs, rho):\n",
    "          .\n",
    "          .\n",
    "          .\n",
    "          return U, V, W, X_means, X_stds, T_means, T_stds\n",
    "          \n",
    "* Define function `use` that accepts unstandardized `X`, standardization parameters, and weight matrices `U`, `V`, and `W` and returns the unstandardized output.\n",
    "\n",
    "      def use(X, X_means, X_stds, T_means, T_stds, U, V, W):\n",
    "          .\n",
    "          .\n",
    "          .\n",
    "          Y = ....\n",
    "          return Y"
   ]
  },
  {
   "cell_type": "markdown",
   "metadata": {},
   "source": [
    "## Example Results"
   ]
  },
  {
   "cell_type": "code",
   "execution_count": 3,
   "metadata": {},
   "outputs": [],
   "source": [
    "import numpy as np\n",
    "import matplotlib.pyplot as plt\n",
    "%matplotlib inline\n",
    "\n",
    "def addOnes(X):\n",
    "    return np.insert(X, 0, 1, axis=1)"
   ]
  },
  {
   "cell_type": "markdown",
   "metadata": {},
   "source": [
    "Add code cells here to define the functions above.  Once these are correctly defined, the following cells should run and produce similar results as those here."
   ]
  },
  {
   "cell_type": "code",
   "execution_count": 4,
   "metadata": {},
   "outputs": [],
   "source": [
    "def forward(X, U, V, W):\n",
    "    #print(\"U.shape in Forward\", U.shape)\n",
    "    Zu = np.tanh(X @ U)\n",
    "    Z1 = addOnes(Zu)\n",
    "    Zv = np.tanh(Z1 @ V)\n",
    "    Z2 = addOnes(Zv)\n",
    "    Y = Z2 @ W # output of neural network for all rows in X\n",
    "    return Zu, Zv, Y"
   ]
  },
  {
   "cell_type": "code",
   "execution_count": 5,
   "metadata": {},
   "outputs": [],
   "source": [
    "def gradient(X, Ta, Zu, Zv, Y, U, V, W):\n",
    "    #print(\"U.shape in gradient\", U.shape)\n",
    "    X1 = addOnes(X)\n",
    "    Z1 = addOnes(Zu)\n",
    "    Z2 = addOnes(Zv)\n",
    "    #print(U.shape, V.shape, W.shape)\n",
    "    Dw = (Ta - Y)\n",
    "    Dv = Dw @ W[1:, :].T * (1 - Zv**2)\n",
    "    Du = Dv @ V[1:, :].T * (1 - Zu**2)\n",
    "    grad_wrt_W = - Z2.T @ Dw\n",
    "    grad_wrt_V = - Z1.T @ Dv\n",
    "    grad_wrt_U = - X.T @  Du\n",
    "    return grad_wrt_U, grad_wrt_V, grad_wrt_W"
   ]
  },
  {
   "cell_type": "code",
   "execution_count": 6,
   "metadata": {},
   "outputs": [],
   "source": [
    "def use(X, X_means, X_stds, T_means, T_stds, U, V, W):\n",
    "#     X_means = np.mean(Xtrain, axis=0)\n",
    "#     X_stds = np.std(Xtrain, axis=0)\n",
    "    Xtrain_st = (X - X_means) / X_stds\n",
    "    Zu, Zv, Y = forward(addOnes(Xtrain_st), U, V, W)\n",
    "    Y = Y * T_stds + T_means\n",
    "    return Y"
   ]
  },
  {
   "cell_type": "code",
   "execution_count": 7,
   "metadata": {},
   "outputs": [],
   "source": [
    "def train(X, T, n_units_U, n_units_V, n_epochs, rho):\n",
    "    X_means = np.mean(X, axis=0)\n",
    "    X_stds = np.std(X, axis=0)\n",
    "    Xtrain_st = (X - X_means) / X_stds\n",
    "    XtrainS1 = addOnes(Xtrain_st)\n",
    "    #print(\"XtrainS1.shape\",XtrainS1.shape)\n",
    "    \n",
    "    Tmeans = T.mean(axis=0)\n",
    "    Tstds = T.std(axis=0)\n",
    "\n",
    "    #XtrainS = (Xtrain - Xmeans) / Xstds\n",
    "    Ttrain_st = (T - Tmeans) / Tstds\n",
    "    \n",
    "    # Set parameters of neural network\n",
    "    #n_hiddens = 20\n",
    "\n",
    "    n_samples, n_outputs = Ttrain_st.shape\n",
    "\n",
    "    #rho_h = 0.5\n",
    "    #rho_o = 0.1\n",
    "\n",
    "    #rho_h = rho_h / (n_samples * n_outputs)\n",
    "    rho_o=rho\n",
    "    #rho_o = rho / (n_samples * n_outputs)\n",
    "\n",
    "    # Initialize weights to uniformly distributed values between small normally-distributed between -0.1 and 0.1\n",
    "    U = np.random.uniform(-1, 1, size=(1 + X.shape[1], n_units_U)) / np.sqrt(XtrainS1.shape[1])\n",
    "    #print(\"U.shape\",U.shape)\n",
    "    V = np.random.uniform(-1, 1, size=(1 + n_units_U, n_units_V)) / np.sqrt(n_units_U + 1)\n",
    "    W = np.random.uniform(-1, 1, size=(1 + n_units_V, n_outputs)) / np.sqrt(n_units_V + 1)\n",
    "\n",
    "    # Take n_epochs steepest descent steps in gradient descent search in mean-squared-error function\n",
    "    n_epochs = n_epochs\n",
    "\n",
    "    # collect training and testing errors for plotting\n",
    "    #error_trace = []\n",
    "\n",
    "    #fig = plt.figure(figsize=(10, 20))\n",
    "\n",
    "    for epoch in range(n_epochs):\n",
    "\n",
    "        # Function we wish to minimize, mean squared error\n",
    "        # ------------------------------------------------\n",
    "        # Forward pass on all training data\n",
    "#         Z = np.tanh(XtrainS1 @ V)\n",
    "#         Z1 = addOnes(Z)\n",
    "#         Y = Z1 @ W\n",
    "        Zu, Zv, Y = forward(addOnes(Xtrain_st), U, V, W)\n",
    "        #print(\"U.shape in loop\",U.shape)\n",
    "        mse = np.mean((Ttrain_st - Y)**2)\n",
    "\n",
    "\n",
    "\n",
    "        # Gradient of mean squared error with respect to V and W\n",
    "        # ------------------------------------------------------\n",
    "        #grad_wrt_U, grad_wrt_V, grad_wrt_W = gradient(Xtrain_st, Ttrain_st, Zu, Zv, Y, U, V, W)\n",
    "        grad_wrt_U, grad_wrt_V, grad_wrt_W = gradient(addOnes(Xtrain_st), Ttrain_st, Zu, Zv, Y, U, V, W)\n",
    "        \n",
    "#         Dw = TtrainS - Y\n",
    "#         Dv = Dw @ W[1:, :].T * (1 - Z**2)\n",
    "#         grad_wrt_W = - Z1.T @ Dw\n",
    "#         grad_wrt_V = - XtrainS1.T @ Dv\n",
    "\n",
    "        # Take step down the gradient\n",
    "        U = U - rho_o * grad_wrt_U\n",
    "        #print(\"U.shape with gradwrt\",U.shape)\n",
    "        V = V - rho_o * grad_wrt_V\n",
    "        W = W - rho_o * grad_wrt_W\n",
    "          \n",
    "        \n",
    "        #print(\" XtrainS1.shape V.shape, W.shape\", XtrainS1.shape, V.shape, W.shape)\n",
    "        # Apply model with new weights to train and test data, calculate the RMSEs and append to error_trace\n",
    "        #YtrainS = addOnes(np.tanh(XtrainS1 @ V)) @ W    # Forward pass in one line !!\n",
    "        #YtestS = addOnes(np.tanh(XtestS1 @ V)) @ W \n",
    "    \n",
    "    \n",
    "    \n",
    "    \n",
    "    return U, V, W, X_means, X_stds, Tmeans, Tstds"
   ]
  },
  {
   "cell_type": "code",
   "execution_count": 8,
   "metadata": {},
   "outputs": [],
   "source": [
    "Xtrain = np.arange(4).reshape(-1, 1)\n",
    "Ttrain = Xtrain ** 2\n",
    "\n",
    "Xtest = Xtrain + 0.5\n",
    "Ttest = Xtest ** 2"
   ]
  },
  {
   "cell_type": "code",
   "execution_count": 9,
   "metadata": {},
   "outputs": [],
   "source": [
    "U = np.array([[1, 2, 3], [4, 5, 6]])  # 2 x 3 matrix, for 2 inputs (include constant 1) and 3 units\n",
    "V = np.array([[-1, 3], [1, 3], [-2, 1], [2, -4]]) # 2 x 3 matrix, for 3 inputs (include constant 1) and 2 units\n",
    "W = np.array([[-1], [2], [3]])  # 3 x 1 matrix, for 3 inputs (include constant 1) and 1 ounit"
   ]
  },
  {
   "cell_type": "code",
   "execution_count": 10,
   "metadata": {},
   "outputs": [],
   "source": [
    "X_means = np.mean(Xtrain, axis=0)\n",
    "X_stds = np.std(Xtrain, axis=0)\n",
    "Xtrain_st = (Xtrain - X_means) / X_stds"
   ]
  },
  {
   "cell_type": "code",
   "execution_count": 11,
   "metadata": {},
   "outputs": [
    {
     "name": "stdout",
     "output_type": "stream",
     "text": [
      "Zu =  [[-0.99967774 -0.99983726 -0.99991782]\n",
      " [-0.65775956 -0.23177837  0.3065367 ]\n",
      " [ 0.99246605  0.99958165  0.99997685]\n",
      " [ 0.9999941   0.99999995  1.        ]]\n",
      "Zv =  [[-9.64016194e-01  9.95062648e-01]\n",
      " [-5.23485834e-01 -4.06326878e-01]\n",
      " [-6.74345774e-03  9.94823310e-01]\n",
      " [-5.79521329e-06  9.95054578e-01]]\n",
      "Y =  [[ 0.05715556]\n",
      " [-3.2659523 ]\n",
      " [ 1.97098301]\n",
      " [ 1.98515214]]\n"
     ]
    }
   ],
   "source": [
    "Zu, Zv, Y = forward(addOnes(Xtrain_st), U, V, W)\n",
    "print('Zu = ', Zu)\n",
    "print('Zv = ', Zv)\n",
    "print('Y = ', Y)"
   ]
  },
  {
   "cell_type": "code",
   "execution_count": 12,
   "metadata": {},
   "outputs": [
    {
     "data": {
      "text/plain": [
       "(2, 3)"
      ]
     },
     "execution_count": 12,
     "metadata": {},
     "output_type": "execute_result"
    }
   ],
   "source": [
    "U.shape"
   ]
  },
  {
   "cell_type": "markdown",
   "metadata": {},
   "source": [
    "**Update Sept. 6:** In the next code cell, `gradient()` had not been called correctly.  The first argument should have been the input samples matrix with the added initial column of 1's."
   ]
  },
  {
   "cell_type": "code",
   "execution_count": 13,
   "metadata": {},
   "outputs": [
    {
     "name": "stdout",
     "output_type": "stream",
     "text": [
      "grad_wrt_U =  [[-12.92244218   0.95763799  16.44936549]\n",
      " [  5.83033911  -0.43361979  -7.35611199]]\n",
      "grad_wrt_V =  [[ 0.92812794 -6.29102685]\n",
      " [ 6.74349351  4.24106248]\n",
      " [ 5.19130234  1.51895191]\n",
      " [ 3.19836999 -1.92147926]]\n",
      "grad_wrt_W =  [[0.74733841]\n",
      " [0.30431595]\n",
      " [4.31908649]]\n"
     ]
    }
   ],
   "source": [
    "T_means = np.mean(Ttrain, axis=0)\n",
    "T_stds = np.std(Ttrain, axis=0)\n",
    "Ttrain_st = (Ttrain - T_means) / T_stds\n",
    "# grad_wrt_U, grad_wrt_V, grad_wrt_W = gradient(Xtrain_st, Ttrain_st, Zu, Zv, Y, U, V, W)\n",
    "grad_wrt_U, grad_wrt_V, grad_wrt_W = gradient(addOnes(Xtrain_st), Ttrain_st, Zu, Zv, Y, U, V, W)\n",
    "print('grad_wrt_U = ', grad_wrt_U)\n",
    "print('grad_wrt_V = ', grad_wrt_V)\n",
    "print('grad_wrt_W = ', grad_wrt_W)"
   ]
  },
  {
   "cell_type": "code",
   "execution_count": 14,
   "metadata": {},
   "outputs": [
    {
     "data": {
      "text/plain": [
       "array([[ 3.70004445],\n",
       "       [-7.93083306],\n",
       "       [10.39844055],\n",
       "       [10.44803251]])"
      ]
     },
     "execution_count": 14,
     "metadata": {},
     "output_type": "execute_result"
    }
   ],
   "source": [
    "Y = use(Xtrain, X_means, X_stds, T_means, T_stds, U, V, W)\n",
    "Y"
   ]
  },
  {
   "cell_type": "markdown",
   "metadata": {},
   "source": [
    "Here is another example that just shows the final results of training."
   ]
  },
  {
   "cell_type": "code",
   "execution_count": 15,
   "metadata": {},
   "outputs": [],
   "source": [
    "n = 30\n",
    "Xtrain = np.linspace(0., 20.0, n).reshape((n, 1)) - 10\n",
    "Ttrain = 0.2 + 0.05 * (Xtrain + 10) + 0.4 * np.sin(Xtrain + 10) + 0.2 * np.random.normal(size=(n, 1))\n",
    "\n",
    "Xtest = Xtrain + 0.1 * np.random.normal(size=(n, 1))\n",
    "Ttest = 0.2 + 0.05 * (Xtest + 10) + 0.4 * np.sin(Xtest + 10) + 0.2 * np.random.normal(size=(n, 1))"
   ]
  },
  {
   "cell_type": "code",
   "execution_count": 16,
   "metadata": {},
   "outputs": [],
   "source": [
    "U, V, W, X_means, X_stds, T_means, T_stds = train(Xtrain, Ttrain, 5, 5, 100, 0.01)"
   ]
  },
  {
   "cell_type": "code",
   "execution_count": 17,
   "metadata": {},
   "outputs": [],
   "source": [
    "Y = use(Xtrain, X_means, X_stds, T_means, T_stds, U, V, W)"
   ]
  },
  {
   "cell_type": "code",
   "execution_count": 18,
   "metadata": {},
   "outputs": [
    {
     "data": {
      "image/png": "[encoded data removed]",
      "text/plain": [
       "<Figure size 432x288 with 1 Axes>"
      ]
     },
     "metadata": {
      "needs_background": "light"
     },
     "output_type": "display_data"
    }
   ],
   "source": [
    "plt.plot(Xtrain, Ttrain)\n",
    "plt.plot(Xtrain, Y);"
   ]
  },
  {
   "cell_type": "code",
   "execution_count": 19,
   "metadata": {
    "scrolled": true
   },
   "outputs": [
    {
     "data": {
      "image/png": "[encoded data removed]",
      "text/plain": [
       "<Figure size 432x288 with 1 Axes>"
      ]
     },
     "metadata": {
      "needs_background": "light"
     },
     "output_type": "display_data"
    }
   ],
   "source": [
    "U, V, W, X_means, X_stds, T_means, T_stds = train(Xtrain, Ttrain, 5, 5, 10000, 0.01)\n",
    "Y = use(Xtrain, X_means, X_stds, T_means, T_stds, U, V, W)\n",
    "plt.plot(Xtrain, Ttrain, label='Train')\n",
    "plt.plot(Xtrain, Y, label='Test')\n",
    "plt.legend();"
   ]
  },
  {
   "cell_type": "markdown",
   "metadata": {},
   "source": [
    "## Discussion"
   ]
  },
  {
   "cell_type": "markdown",
   "metadata": {},
   "source": [
    "In this markdown cell, describe what difficulties you encountered in completing this assignment. What parts were easy for you and what parts were hard?"
   ]
  },
  {
   "cell_type": "markdown",
   "metadata": {},
   "source": [
    "The forward and use function were easy for me. Those were solved on one go. I found some issues on gradient and train function. addone function was confusing initially whether to use them of gradient or not. I made a silly mistake (variable spelling) on train function which took me a while to figure out. At the end everything worked fine. This was really helpful assignment. Although I had some exposure in this feild, this assignment cleared my concept of backpropagation of  multi layer perceptron. "
   ]
  },
  {
   "cell_type": "markdown",
   "metadata": {},
   "source": [
    "# Grading\n",
    "\n",
    "**A1grader.tar updated Sept. 7 1:45 PM.**\n",
    "\n",
    "Your notebook will be run and graded automatically. Test this grading process by first downloading [A1grader.tar](http://www.cs.colostate.edu/~anderson/cs545/notebooks/A1grader.tar) and extract `A1grader.py` from it. Run the code in the following cell to demonstrate an example grading session.  The remaining 10 points will be based on your discussion of this assignment.\n",
    "\n",
    "A different, but similar, grading script will be used to grade your checked-in notebook. It will include additional tests. You should design and perform additional tests on all of your functions to be sure they run correctly before checking in your notebook.  \n",
    "\n",
    "For the grading script to run correctly, you must first name this notebook as 'Lastname-A1.ipynb' with 'Lastname' being your last name, and then save this notebook."
   ]
  },
  {
   "cell_type": "code",
   "execution_count": 20,
   "metadata": {},
   "outputs": [
    {
     "name": "stdout",
     "output_type": "stream",
     "text": [
      "\n",
      "======================= Code Execution =======================\n",
      "\n",
      "Extracting python code from notebook named 'A1 Three-Layer Neural Network-Copy1.ipynb' and storing in notebookcode.py\n",
      "Removing all statements that are not function or class defs or import statements.\n",
      "\n",
      "Testing\n",
      "    X = np.arange(4).reshape(-1, 1)\n",
      "    T = np.log(X + 10)\n",
      "\n",
      "    ni = 1\n",
      "    nu = 2\n",
      "    nv = 3\n",
      "    U = np.arange((ni + 1) * nu).reshape(ni + 1, nu) * 0.1\n",
      "    V = (np.arange((nu + 1) * nv).reshape(nu + 1, nv) - 6) * 0.1\n",
      "    W = np.arange(nv + 1).reshape(nv + 1, 1) * -0.1\n",
      "\n",
      "    Zu, Zv, Y = forward(addOnes(X), U, V, W)\n",
      "\n",
      "\n",
      "--- 20/20 points. Zu, Zv and Y are correct.\n",
      "\n",
      "Testing\n",
      "    X = np.arange(4).reshape(-1, 1)\n",
      "    T = np.log(X + 10)\n",
      "\n",
      "    ni = 1\n",
      "    nu = 2\n",
      "    nv = 3\n",
      "    U = np.arange((ni + 1) * nu).reshape(ni + 1, nu) * 0.1\n",
      "    V = (np.arange((nu + 1) * nv).reshape(nu + 1, nv) - 6) * 0.1\n",
      "    W = np.arange(nv + 1).reshape(nv + 1, 1) * -0.1\n",
      "\n",
      "    Zu = np.array([[0.        , 0.09966799],\n",
      "                   [0.19737532, 0.37994896],\n",
      "                   [0.37994896, 0.60436778],\n",
      "                   [0.53704957, 0.76159416]])\n",
      "    Zv = np.array([[-0.53704957, -0.45424278, -0.36276513],\n",
      "                   [-0.57783916, -0.46328044, -0.3308191 ],\n",
      "                   [-0.61316945, -0.47426053, -0.30690171],\n",
      "                   [-0.64173317, -0.4863364 , -0.29258059]])\n",
      "    Y = np.array([[0.25338305],\n",
      "                  [0.24968573],\n",
      "                  [0.24823956],\n",
      "                  [0.24921478]])\n",
      "\n",
      "    grad_wrt_U, grad_wrt_V, grad_wrt_W = gradient(X, T, Zu, Zv, Y, U, V, W)\n",
      "\n",
      "\n",
      "--- 20/20 points. grad_wrt_U, grad_wrt_V, grad_wrt_W are correct.\n",
      "\n",
      "Testing\n",
      "    X = (np.arange(40).reshape(-1, 2) - 10) * 0.1\n",
      "    T = X ** 3\n",
      "\n",
      "    U, V, W, X_means, X_stds, T_means, T_stds = train(X, T, 100, 50, 10, 0.005)\n",
      "\n",
      "U.shape is correct\n",
      "V.shape is correct\n",
      "W.shape is correct\n",
      "X_means is correct.\n",
      "X_stds is correct.\n",
      "T_means is correct.\n",
      "T_stds is correct.\n",
      "\n",
      "--- 20/20 points. Shapes of weight matrices and standardization parameters are correct\n",
      "\n",
      "Testing\n",
      "    X = (np.arange(40).reshape(-1, 2) - 10) * 0.1\n",
      "    T = X ** 3\n",
      "\n",
      "    def rmse(A, B):\n",
      "        return np.sqrt(np.mean((A - B)**2))\n",
      "\n",
      "    vs = []\n",
      "    for i in range(10):\n",
      "        U, V, W, X_means, X_stds, T_means, T_stds = train(X, T, 100, 50, 10000, 0.005)\n",
      "        Y = use(X, X_means, X_stds, T_means, T_stds, U, V, W)\n",
      "        vs.append(rmse(Y, T))\n",
      "\n",
      "    rmse_min, rmse_max = min(vs), max(vs)\n",
      "\n",
      "\n",
      "--- 30/30 points. Range of RMSE results are what is expected: 0.001 < RMSE < 0.5\n",
      "\n",
      "======================================================================\n",
      "C:\\Users\\banik\\Coding\\Machine Learning Execution Grade is 90 / 90\n",
      "======================================================================\n",
      "\n",
      " __ / 10 points Based on your discussion.\n",
      "\n",
      "======================================================================\n",
      "C:\\Users\\banik\\Coding\\Machine Learning FINAL GRADE is  _  / 100\n",
      "======================================================================\n",
      "\n",
      "Extra Credit:\n",
      "\n",
      "Apply your functions to a data set from the UCI Machine Learning Repository.\n",
      "Explain your steps and results in markdown cells.\n",
      "\n",
      "\n",
      "C:\\Users\\banik\\Coding\\Machine Learning EXTRA CREDIT is 0 / 1\n"
     ]
    },
    {
     "data": {
      "text/plain": [
       "<Figure size 432x288 with 0 Axes>"
      ]
     },
     "metadata": {},
     "output_type": "display_data"
    }
   ],
   "source": [
    "%run -i A1grader.py"
   ]
  },
  {
   "cell_type": "markdown",
   "metadata": {},
   "source": [
    "# Check-In\n",
    "\n",
    "Do not include this section in your notebook.\n",
    "\n",
    "Name your notebook ```Lastname-A1.ipynb```.  So, for me it would be ```Anderson-A1.ipynb```.  Submit the file using the ```Assignment 1``` link on [Canvas](https://colostate.instructure.com/courses/131494)."
   ]
  },
  {
   "cell_type": "markdown",
   "metadata": {},
   "source": [
    "# Extra Credit\n",
    "\n",
    "Apply your multilayer neural network code to a regression problem using data that you choose \n",
    "from the [UCI Machine Learning Repository](http://archive.ics.uci.edu/ml/datasets.php). Pick a dataset that\n",
    "is listed as being appropriate for regression."
   ]
  }
 ],
 "metadata": {
  "kernelspec": {
   "display_name": "Python 3",
   "language": "python",
   "name": "python3"
  },
  "language_info": {
   "codemirror_mode": {
    "name": "ipython",
    "version": 3
   },
   "file_extension": ".py",
   "mimetype": "text/x-python",
   "name": "python",
   "nbconvert_exporter": "python",
   "pygments_lexer": "ipython3",
   "version": "3.8.8"
  },
  "toc": {
   "base_numbering": 1,
   "nav_menu": {},
   "number_sections": false,
   "sideBar": true,
   "skip_h1_title": true,
   "title_cell": "Table of Contents",
   "title_sidebar": "Contents",
   "toc_cell": true,
   "toc_position": {
    "height": "calc(100% - 180px)",
    "left": "10px",
    "top": "150px",
    "width": "512px"
   },
   "toc_section_display": true,
   "toc_window_display": true
  }
 },
 "nbformat": 4,
 "nbformat_minor": 4
}
